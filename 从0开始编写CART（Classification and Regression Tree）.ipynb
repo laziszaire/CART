{
 "cells": [
  {
   "cell_type": "code",
   "execution_count": 1,
   "metadata": {
    "collapsed": true
   },
   "outputs": [],
   "source": [
    "import numpy as np\n",
    "import lightgbm as lgb\n",
    "from sklearn.datasets import load_sample_image\n",
    "from sklearn.datasets import load_boston\n",
    "from sklearn.model_selection import cross_val_score\n",
    "from sklearn.tree import DecisionTreeRegressor\n",
    "from sklearn.ensemble import AdaBoostRegressor\n",
    "import matplotlib.pyplot as plt\n",
    "import pandas as pd\n",
    "%matplotlib inline"
   ]
  },
  {
   "cell_type": "code",
   "execution_count": 2,
   "metadata": {},
   "outputs": [
    {
     "data": {
      "text/plain": [
       "dict_keys(['data', 'target', 'target_names', 'DESCR', 'feature_names'])"
      ]
     },
     "execution_count": 2,
     "metadata": {},
     "output_type": "execute_result"
    }
   ],
   "source": [
    "#test data\n",
    "from sklearn.datasets import load_iris\n",
    "iris = load_iris()\n",
    "iris.keys()"
   ]
  },
  {
   "cell_type": "markdown",
   "metadata": {},
   "source": [
    "a node represents a single inputs variable and a split point on that variable"
   ]
  },
  {
   "cell_type": "markdown",
   "metadata": {},
   "source": [
    "Gini index"
   ]
  },
  {
   "cell_type": "code",
   "execution_count": 3,
   "metadata": {},
   "outputs": [
    {
     "data": {
      "text/plain": [
       "<matplotlib.text.Text at 0x24a261e4940>"
      ]
     },
     "execution_count": 3,
     "metadata": {},
     "output_type": "execute_result"
    },
    {
     "data": {
      "image/png": "[encoded data removed]",
      "text/plain": [
       "<matplotlib.figure.Figure at 0x24a261d7cf8>"
      ]
     },
     "metadata": {},
     "output_type": "display_data"
    }
   ],
   "source": [
    "# binary class gini\n",
    "\n",
    "f = lambda x: x**2\n",
    "x = np.linspace(0,1,50)\n",
    "x = np.array([x,1-x])\n",
    "plt.plot(x[0,],1-np.sum(x**2,axis=0))\n",
    "plt.xlabel('probability of class1')\n",
    "plt.ylabel('gini impurity or gini index')"
   ]
  },
  {
   "cell_type": "code",
   "execution_count": 4,
   "metadata": {
    "collapsed": true
   },
   "outputs": [],
   "source": [
    "# cost function\n",
    "def gini(group):\n",
    "    \"\"\"\n",
    "    calculate gini index of a group\n",
    "    group = [1,2,1,2,2]\n",
    "    \"\"\"\n",
    "    _,counts = np.unique(group,return_counts=True)\n",
    "    pcounts = counts/counts.sum()\n",
    "    gini_index = 1-np.sum(pcounts**2)\n",
    "    return gini_index"
   ]
  },
  {
   "cell_type": "code",
   "execution_count": 6,
   "metadata": {},
   "outputs": [],
   "source": [
    "np.random.seed(1)\n",
    "group =  np.random.randint(1,5,20)"
   ]
  },
  {
   "cell_type": "code",
   "execution_count": 7,
   "metadata": {
    "collapsed": true
   },
   "outputs": [],
   "source": [
    "def split(feature,split_value):\n",
    "    \"\"\"\n",
    "    split the dataset based on the feature\n",
    "    \"\"\"\n",
    "    left_mask = feature < split_value\n",
    "    right_mask = ~left_mask\n",
    "    return left_mask,right_mask"
   ]
  },
  {
   "cell_type": "code",
   "execution_count": 8,
   "metadata": {
    "collapsed": true
   },
   "outputs": [],
   "source": [
    "def split_gini(left_labels,right_labels):\n",
    "    \"\"\"\n",
    "    calculate gini after split\n",
    "    \"\"\"\n",
    "    counts = np.array([len(left_labels),len(right_labels)])\n",
    "    weights = counts/sum(counts)\n",
    "    ginis = np.array([gini(left_labels),gini(right_labels)])\n",
    "    total_gini = weights.dot(ginis.T)\n",
    "    return total_gini"
   ]
  },
  {
   "cell_type": "code",
   "execution_count": 37,
   "metadata": {
    "collapsed": true
   },
   "outputs": [],
   "source": [
    "def best_split(dataset):\n",
    "    \"\"\"\n",
    "    evaluatw of the splits and choose the best split\n",
    "    \"\"\"\n",
    "    labels = dataset[:,-1]\n",
    "    best_gini = 2\n",
    "    n_features = dataset.shape[1]\n",
    "    for feature_index in range(n_features):\n",
    "        feature = dataset[:,feature_index]\n",
    "        unique_feature_values = np.unique(feature)\n",
    "        for feature_value in unique_feature_values:\n",
    "            left_mask,right_mask = split(feature,feature_value)\n",
    "            new_gini = split_gini(labels[left_mask],labels[right_mask])\n",
    "            # print(new_gini)\n",
    "            if new_gini < best_gini:\n",
    "                b_feature_index,best_feature_value,best_gini,b_left,b_right =\\\n",
    "                feature_index,feature_value,new_gini,dataset[left_mask],dataset[right_mask]\n",
    "            if new_gini < 1e-5: #early return\n",
    "                print('early return')\n",
    "                return {'feature_index':feature_index, 'feature_value':\\\n",
    "            feature_value, 'left':dataset[left_mask],'right':dataset[right_mask],'best_gini':new_gini}\n",
    "    return {'feature_index':b_feature_index, 'feature_value':\\\n",
    "            best_feature_value, 'left':b_left,'right':b_right,'best_gini':best_gini}"
   ]
  },
  {
   "cell_type": "code",
   "execution_count": null,
   "metadata": {
    "collapsed": true
   },
   "outputs": [],
   "source": [
    "# recursive binary splitting"
   ]
  },
  {
   "cell_type": "code",
   "execution_count": 10,
   "metadata": {
    "collapsed": true
   },
   "outputs": [],
   "source": [
    "dataset = iris.data\n",
    "target = iris.target"
   ]
  },
  {
   "cell_type": "code",
   "execution_count": 77,
   "metadata": {},
   "outputs": [],
   "source": [
    "root = best_split(data)"
   ]
  },
  {
   "cell_type": "markdown",
   "metadata": {},
   "source": [
    "# build a tree\n",
    " recursive binary splitting"
   ]
  },
  {
   "cell_type": "markdown",
   "metadata": {},
   "source": [
    "1. check if it is leaf node, make a prediction\n",
    "2. if not a leaf node, binary split"
   ]
  },
  {
   "cell_type": "code",
   "execution_count": null,
   "metadata": {
    "collapsed": true
   },
   "outputs": [],
   "source": [
    "# from collections import Counter\n",
    "def leaf_predict(group):\n",
    "    \"\"\"\n",
    "    prediction of a leaf node with the most common elements\n",
    "    \"\"\"\n",
    "    predicted = max(group, key=list(group).count)\n",
    "    return predicted"
   ]
  },
  {
   "cell_type": "code",
   "execution_count": 78,
   "metadata": {},
   "outputs": [
    {
     "data": {
      "text/plain": [
       "dict_keys(['feature_index', 'feature_value', 'left', 'right', 'best_gini'])"
      ]
     },
     "execution_count": 78,
     "metadata": {},
     "output_type": "execute_result"
    }
   ],
   "source": [
    "root.keys()"
   ]
  },
  {
   "cell_type": "code",
   "execution_count": 81,
   "metadata": {},
   "outputs": [],
   "source": [
    "def is_leaf(node,max_depth,cur_depth,min_leaf_size):\n",
    "    \"\"\"\n",
    "    判断是个节点是否是leaf\n",
    "    \"\"\"\n",
    "    tree_depth = cur_depth>=max_depth\n",
    "    leaf_size = len(node['left'])<min_leaf_size or len(node['right']<min_leaf_size)\n",
    "    node_is_leaf = tree_depth or leaf_size\n",
    "    return node_is_leaf"
   ]
  },
  {
   "cell_type": "code",
   "execution_count": null,
   "metadata": {
    "collapsed": true
   },
   "outputs": [],
   "source": [
    "def tree_split(node,max_depth,min_size,cur_depth):\n",
    "    \n",
    "    \n",
    "    # check is is_leaf\n",
    "    node_is_leaf = is_leaf(node,max_depth,cur_depth,min_size)\n",
    "    \n",
    "    if node_is_leaf:\n",
    "        \n",
    "    left,right = node['left'],node['right']\n",
    "    #one of child is epmty\n",
    "    left_labels = left[:,-1]\n",
    "    right_labels = right[:,-1]\n",
    "    if not  left or not  right:\n",
    "        node['left'] = node['right'] = leaf_predict(np.append(left_labels,right_labels))\n",
    "\n",
    "    #check for max depth\n",
    "    if cur_depth >= max_depth:\n",
    "        node['left']  = leaf_predict(left_labels)\n",
    "        node['right'] = leaf_predict(right_labels)\n",
    "        \n",
    "    #process left child\n",
    "    if len(left)<=min_size:\n",
    "        node['left']  = leaf_predict(left_labels)\n",
    "    else:\n",
    "        child_node = best_split(train_set[left],labels[left])\n",
    "        tree_split(child_node,max_depth,min_size,cur_depth+1)\n",
    "    \n",
    "    # process the right child\n",
    "    if len(right)<=min_size:\n",
    "        node['right_value'] = leaf_predict(labels[right])\n",
    "    else:\n",
    "        child_node = best_split(train_set[right],labels[right])\n",
    "        node['right'] = sub_mask(child_node['right_mask'],right) #overall_mask\n",
    "        tree_split(node['right'],train_set,labels,max_depth,min_size,cur_depth+1)\n",
    "    return node"
   ]
  },
  {
   "cell_type": "code",
   "execution_count": null,
   "metadata": {
    "collapsed": true
   },
   "outputs": [],
   "source": [
    "def build_tree(train_set,labels, max_depth, min_leaf_size):\n",
    "    tree = best_split(train_set,labels)\n",
    "    cur_depth = 1\n",
    "    tree_split(tree,train_set,labels,max_depth,min_leaf_size,cur_depth)\n",
    "    return tree"
   ]
  },
  {
   "cell_type": "code",
   "execution_count": null,
   "metadata": {
    "collapsed": true
   },
   "outputs": [],
   "source": [
    "root = best_split(dataset,target)"
   ]
  },
  {
   "cell_type": "markdown",
   "metadata": {},
   "source": [
    "node 是什么？  \n",
    " - 字典\n",
    " \n",
    " 树也是个字典"
   ]
  },
  {
   "cell_type": "markdown",
   "metadata": {},
   "source": [
    "This is a tree with one node, also called a decision stump"
   ]
  },
  {
   "cell_type": "markdown",
   "metadata": {},
   "source": [
    "# make a prediction"
   ]
  },
  {
   "cell_type": "code",
   "execution_count": null,
   "metadata": {},
   "outputs": [],
   "source": [
    "def predict(node, row):\n",
    "    \"\"\"\n",
    "    make a predcition with a tree given in node by recursively navigating the tree\n",
    "    \"\"\"\n",
    "    if row[node['index']]<node['value']:\n",
    "        if isinstance(node['left'],dict):\n",
    "            return predict(node['left'],row)\n",
    "        else:\n",
    "            return node['left']\n",
    "    else:\n",
    "        if isinstance(node['right'],dict):\n",
    "            return predict(node['right'],row)\n",
    "        else:\n",
    "            return node['right']"
   ]
  },
  {
   "cell_type": "markdown",
   "metadata": {},
   "source": [
    "递归是一种循环"
   ]
  }
 ],
 "metadata": {
  "kernelspec": {
   "display_name": "Python 3",
   "language": "python",
   "name": "python3"
  },
  "language_info": {
   "codemirror_mode": {
    "name": "ipython",
    "version": 3
   },
   "file_extension": ".py",
   "mimetype": "text/x-python",
   "name": "python",
   "nbconvert_exporter": "python",
   "pygments_lexer": "ipython3",
   "version": "3.6.1"
  }
 },
 "nbformat": 4,
 "nbformat_minor": 2
}
